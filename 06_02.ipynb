{
  "nbformat": 4,
  "nbformat_minor": 0,
  "metadata": {
    "colab": {
      "provenance": []
    },
    "kernelspec": {
      "name": "python3",
      "display_name": "Python 3"
    },
    "language_info": {
      "name": "python"
    }
  },
  "cells": [
    {
      "cell_type": "code",
      "execution_count": null,
      "metadata": {
        "id": "NnUZFwOsHcLR"
      },
      "outputs": [],
      "source": [
        "A=[[1,2,3], [4,5,6], [7,8,9]]\n",
        "print (A)\n",
        "type(A)"
      ]
    },
    {
      "cell_type": "code",
      "source": [
        "#Vamos a crear otra\n",
        "B=[[21,34,40],[71,17,77],[73,81,28]]\n",
        "print(B)\n",
        "A+B"
      ],
      "metadata": {
        "id": "fAtaQ8ryHfBW"
      },
      "execution_count": null,
      "outputs": []
    },
    {
      "cell_type": "code",
      "source": [
        "2*A"
      ],
      "metadata": {
        "id": "HH1ymOoAHiDj"
      },
      "execution_count": null,
      "outputs": []
    },
    {
      "cell_type": "code",
      "source": [
        "A[0][0]\n",
        "#A[0,0]"
      ],
      "metadata": {
        "id": "AcjNga5VHkFc"
      },
      "execution_count": null,
      "outputs": []
    },
    {
      "cell_type": "code",
      "source": [
        "L=A[0]\n",
        "M=B[0]"
      ],
      "metadata": {
        "id": "_L3Ga_EpHkH5"
      },
      "execution_count": null,
      "outputs": []
    },
    {
      "cell_type": "code",
      "source": [
        "a=L[0]\n",
        "b=M[0]\n",
        "a+b"
      ],
      "metadata": {
        "id": "vvRWswZmHkKW"
      },
      "execution_count": null,
      "outputs": []
    },
    {
      "cell_type": "code",
      "source": [
        "a==1\n",
        "#Resultado booleano: (true o false)"
      ],
      "metadata": {
        "id": "XKf4eeJgHkMY"
      },
      "execution_count": null,
      "outputs": []
    },
    {
      "cell_type": "code",
      "source": [
        "len(L)==len(M)"
      ],
      "metadata": {
        "id": "Fh26nuCQHsPh"
      },
      "execution_count": null,
      "outputs": []
    },
    {
      "cell_type": "code",
      "source": [
        "suma=[L[0]+M[0],L[1]+M[1],L[2]+M[2]]\n",
        "suma"
      ],
      "metadata": {
        "id": "73zyxQD4HsRp"
      },
      "execution_count": null,
      "outputs": []
    },
    {
      "cell_type": "code",
      "source": [
        "suma=[L[i]+M[i] for i in range(3)]"
      ],
      "metadata": {
        "id": "Lsu00s7eHsT_"
      },
      "execution_count": null,
      "outputs": []
    },
    {
      "cell_type": "code",
      "source": [
        " #Es como una funcion static o void\n",
        " def hola():\n",
        "  print(\"Hola, me llamo Cesar\")"
      ],
      "metadata": {
        "id": "rhS3jrdPH0aK"
      },
      "execution_count": null,
      "outputs": []
    },
    {
      "cell_type": "code",
      "source": [
        "hola()"
      ],
      "metadata": {
        "id": "TKkN9HyLH0cT"
      },
      "execution_count": null,
      "outputs": []
    },
    {
      "cell_type": "code",
      "source": [
        "#declaras la funcion static\n",
        "def saludar(s,n):\n",
        "  print(f\"Hola, me llamo {s} y tengo {n} años\""
      ],
      "metadata": {
        "id": "zmyiXOIPH0eb"
      },
      "execution_count": null,
      "outputs": []
    },
    {
      "cell_type": "code",
      "source": [
        "saludar(\"Cesar\", 18)"
      ],
      "metadata": {
        "id": "GsWP4w5OH0g_"
      },
      "execution_count": null,
      "outputs": []
    },
    {
      "cell_type": "code",
      "source": [
        "def par (x):\n",
        "  for x in range(10):\n",
        "    if x%2==0:\n",
        "      print(f\"{x} es par\")\n",
        "    else:\n",
        "      print(f\"{x} es impar\")"
      ],
      "metadata": {
        "id": "Ka34BZN2H9WG"
      },
      "execution_count": null,
      "outputs": []
    },
    {
      "cell_type": "code",
      "source": [
        "par(7)"
      ],
      "metadata": {
        "id": "CtD22nMlH9YV"
      },
      "execution_count": null,
      "outputs": []
    },
    {
      "cell_type": "code",
      "source": [
        "def suma_vectorial (L,M):\n",
        "  x= [L[i]+M[i] for i in range(len(L))]\n",
        "  return x"
      ],
      "metadata": {
        "id": "X7cqYE5RH9a_"
      },
      "execution_count": null,
      "outputs": []
    },
    {
      "cell_type": "code",
      "source": [
        "L=[1,2,3]\n",
        "M=[21,34,40]\n",
        "suma_vectorial(L,M)"
      ],
      "metadata": {
        "id": "0h-A4HcoH0mk"
      },
      "execution_count": null,
      "outputs": []
    },
    {
      "cell_type": "code",
      "source": [
        "#el asterisco muestra todos los elementos de la librería, from math import *\n",
        "import math\n",
        "from math import sqrt, pi"
      ],
      "metadata": {
        "id": "sA0X7TMvIGOu"
      },
      "execution_count": null,
      "outputs": []
    },
    {
      "cell_type": "code",
      "source": [
        "sqrt(68)"
      ],
      "metadata": {
        "id": "mzz5Q5LsIGRI"
      },
      "execution_count": null,
      "outputs": []
    },
    {
      "cell_type": "code",
      "source": [
        "pi"
      ],
      "metadata": {
        "id": "pCE-4lB5IGTi"
      },
      "execution_count": null,
      "outputs": []
    },
    {
      "cell_type": "code",
      "source": [
        "#La función array es un convertidor, convierte una lista en un vector\n",
        "import numpy as np\n",
        "\n",
        "L_vector= np.array(L)\n",
        "M_vector= np.array(M)\n",
        "\n",
        "L_vector+M_vector"
      ],
      "metadata": {
        "id": "mV7nGX2UIGV4"
      },
      "execution_count": null,
      "outputs": []
    },
    {
      "cell_type": "code",
      "source": [
        "#Se escriben las matrices de la siguiente manera y posteriormente se usa el.reshape para comodar la matriz segun la cantidad de filas y columnas\n",
        "C=[9,2,2,2,3,3,2,17,2]\n",
        "A=[8,1,1,1,2,2,1,16,1]\n",
        "\n",
        "C_matriz=np.array(C).reshape(3,3)\n",
        "A_matriz=np.array(A).reshape(3,3)\n",
        "print(C_matriz)\n",
        "print(A_matriz)"
      ],
      "metadata": {
        "id": "u0YQUL3-IGYW"
      },
      "execution_count": null,
      "outputs": []
    },
    {
      "cell_type": "code",
      "source": [
        "#El @ sirve para hacer multiplicación\n",
        "C_matriz @ A_matriz\n",
        ""
      ],
      "metadata": {
        "id": "xE7Sf4XGIUyJ"
      },
      "execution_count": null,
      "outputs": []
    },
    {
      "cell_type": "code",
      "source": [
        "#Al no ser conmutativas se hacen las dos operaciones\n",
        "A_matriz @ C_matriz"
      ],
      "metadata": {
        "id": "bXwiSy8pIW0P"
      },
      "execution_count": null,
      "outputs": []
    }
  ]
}