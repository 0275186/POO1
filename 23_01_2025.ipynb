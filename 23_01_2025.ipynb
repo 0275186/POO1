{
  "nbformat": 4,
  "nbformat_minor": 0,
  "metadata": {
    "colab": {
      "provenance": []
    },
    "kernelspec": {
      "name": "python3",
      "display_name": "Python 3"
    },
    "language_info": {
      "name": "python"
    }
  },
  "cells": [
    {
      "cell_type": "code",
      "source": [
        "#Introduccion Python"
      ],
      "metadata": {
        "id": "qEAmAdzds6Cs"
      },
      "execution_count": null,
      "outputs": []
    },
    {
      "cell_type": "markdown",
      "source": [
        "Introducción a Python\n",
        "\n",
        "Python es un lenguaje de programación de alto nivel creado por Guido van Rossum y lanzado por primera vez en 1991. Es muy popular por su sintaxis clara y su facilidad de aprendizaje, así como por su versatilidad para diversas aplicaciones, desde desarrollo web hasta análisis de datos y aprendizaje automático.\n",
        "\n",
        "Características principales de Python:\n",
        "Sintaxis simple y clara: Python es conocido por su sintaxis legible, lo que facilita la comprensión y el mantenimiento del código.\n",
        "\n",
        "Multiparadigma: Python soporta programación orientada a objetos, programación funcional y programación imperativa.\n",
        "\n",
        "Bibliotecas y módulos extensos: Python tiene una gran cantidad de bibliotecas y módulos que permiten realizar tareas complejas de manera sencilla.\n",
        "\n",
        "Interpretable: Python se ejecuta en un intérprete, lo que permite probar el código de manera interactiva.\n",
        "\n",
        "Portabilidad: Python es multiplataforma y puede ejecutarse en diferentes sistemas operativos como Windows, macOS y Linux.\n",
        "\n",
        "## Que veremo hoy\n",
        "\n",
        "1 Objetos\n",
        "\n",
        "2 Variables\n",
        "\n",
        "3 Ejemplos"
      ],
      "metadata": {
        "id": "9T2UkQ8MsYqt"
      }
    },
    {
      "cell_type": "markdown",
      "source": [
        "**Nota: en este procesador de texto se puede excribir en HTLM y en Latex**\n",
        "\n",
        "Por ejemplo Escribir ecuaciones\n",
        "\n",
        "$$ e^{i\\pi} $$\n",
        "\n",
        "\\begin{bmatrix}\n",
        "a & b & c \\\\\n",
        "d & \\frac{e}{f} & g \\\\\n",
        "h^2 & i & \\sqrt{j} \\\\\n",
        "\\end{bmatrix}"
      ],
      "metadata": {
        "id": "thTLo1BruIPS"
      }
    },
    {
      "cell_type": "markdown",
      "source": [
        "## Algunos objetos en Python\n",
        "\n",
        "1. int y flat (enteros y flotantes)\n",
        "2. str (\"string\")\n",
        "3. Conceptos y Listas"
      ],
      "metadata": {
        "id": "7dXNahnI685p"
      }
    },
    {
      "cell_type": "code",
      "source": [
        "print (\"Hola Mundo\")"
      ],
      "metadata": {
        "colab": {
          "base_uri": "https://localhost:8080/"
        },
        "id": "G71LjK4otGnc",
        "outputId": "3ab501ef-d084-4d8a-e172-0b7816985a00"
      },
      "execution_count": null,
      "outputs": [
        {
          "output_type": "stream",
          "name": "stdout",
          "text": [
            "Hola Mundo\n"
          ]
        }
      ]
    },
    {
      "cell_type": "code",
      "source": [
        "type (\"Hola Mundo\")"
      ],
      "metadata": {
        "colab": {
          "base_uri": "https://localhost:8080/"
        },
        "id": "KNVHNB_VAJ-5",
        "outputId": "32706127-f83a-4a67-b7b9-cdda07318b22"
      },
      "execution_count": null,
      "outputs": [
        {
          "output_type": "execute_result",
          "data": {
            "text/plain": [
              "str"
            ]
          },
          "metadata": {},
          "execution_count": 10
        }
      ]
    },
    {
      "cell_type": "markdown",
      "source": [
        "Operaciones Basicas en enteros o flotantes\n",
        "\n",
        "$ [ +, -] $ Suma y resta\n",
        "\n"
      ],
      "metadata": {
        "id": "ylZeCVBQAgfx"
      }
    },
    {
      "cell_type": "code",
      "source": [],
      "metadata": {
        "id": "gv2bFolCAk8D"
      },
      "execution_count": null,
      "outputs": []
    }
  ]
}