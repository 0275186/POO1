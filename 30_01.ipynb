{
  "nbformat": 4,
  "nbformat_minor": 0,
  "metadata": {
    "colab": {
      "provenance": []
    },
    "kernelspec": {
      "name": "python3",
      "display_name": "Python 3"
    },
    "language_info": {
      "name": "python"
    }
  },
  "cells": [
    {
      "cell_type": "code",
      "execution_count": null,
      "metadata": {
        "id": "2CWZRyC_I-rp"
      },
      "outputs": [],
      "source": [
        "range(10)\n",
        "type (range(10))"
      ]
    },
    {
      "cell_type": "code",
      "source": [
        "for  i in range(10):\n",
        "  print(i)"
      ],
      "metadata": {
        "id": "SEF-Zx67I_3l"
      },
      "execution_count": null,
      "outputs": []
    },
    {
      "cell_type": "code",
      "source": [
        "x=7\n",
        "str(x)\n",
        "float(x)"
      ],
      "metadata": {
        "id": "iVc5OE8DI_7s"
      },
      "execution_count": null,
      "outputs": []
    },
    {
      "cell_type": "code",
      "source": [
        "y=7\n",
        "int(y)"
      ],
      "metadata": {
        "id": "1cx8ZuanI_97"
      },
      "execution_count": null,
      "outputs": []
    },
    {
      "cell_type": "code",
      "source": [
        "#No se puede transformar caracteres a int o float\n",
        "hola=\"Hola Mundo\"\n",
        "int (hola)"
      ],
      "metadata": {
        "id": "9hc1FMKGI__9"
      },
      "execution_count": null,
      "outputs": []
    },
    {
      "cell_type": "code",
      "source": [
        "Indices =[i for i in range(0,10)]\n",
        "Indices"
      ],
      "metadata": {
        "id": "dbwAjJ6NJAB-"
      },
      "execution_count": null,
      "outputs": []
    },
    {
      "cell_type": "code",
      "source": [
        "Indices=[i for i in range(0,21)]\n",
        "print(f\"Etiquetas: {Indices}\")\n",
        "Multiplos_3=[i for i in range(0,21) if i%3==0]\n",
        "print(f\"Multiplos_3: {Multiplos_3}\")"
      ],
      "metadata": {
        "id": "x0cTCUw_JAD6"
      },
      "execution_count": null,
      "outputs": []
    },
    {
      "cell_type": "code",
      "source": [
        "print(f\"Estas son las etiquetas en Python {Indices}\")\n",
        "print(\"Indices\")"
      ],
      "metadata": {
        "id": "wuIlk5T6JNue"
      },
      "execution_count": null,
      "outputs": []
    },
    {
      "cell_type": "code",
      "source": [
        "Ceci=[]\n",
        "Ceci.append(18)"
      ],
      "metadata": {
        "id": "b57YZd9yJNxH"
      },
      "execution_count": null,
      "outputs": []
    },
    {
      "cell_type": "code",
      "source": [
        "Ceci.insert(1,\"Violin\")"
      ],
      "metadata": {
        "id": "BUoERI7tJNzi"
      },
      "execution_count": null,
      "outputs": []
    },
    {
      "cell_type": "code",
      "source": [
        "Ceci.append(1.62)"
      ],
      "metadata": {
        "id": "DL_WrLUSJU_y"
      },
      "execution_count": null,
      "outputs": []
    },
    {
      "cell_type": "code",
      "source": [
        "Ceci"
      ],
      "metadata": {
        "id": "Dgdkq_FxJVCC"
      },
      "execution_count": null,
      "outputs": []
    },
    {
      "cell_type": "code",
      "source": [
        "Ceci.insert(4,\"Perro\")"
      ],
      "metadata": {
        "id": "9yLm_xITJVEb"
      },
      "execution_count": null,
      "outputs": []
    },
    {
      "cell_type": "code",
      "source": [
        "Ceci.remove(\"Perro\")"
      ],
      "metadata": {
        "id": "eoahRNSlJVGk"
      },
      "execution_count": null,
      "outputs": []
    },
    {
      "cell_type": "code",
      "source": [
        "Ceci[0:2]"
      ],
      "metadata": {
        "id": "sQyat-iHJgC1"
      },
      "execution_count": null,
      "outputs": []
    },
    {
      "cell_type": "code",
      "source": [
        "Indices[0::3]"
      ],
      "metadata": {
        "id": "Aj8NEYtMJgFZ"
      },
      "execution_count": null,
      "outputs": []
    },
    {
      "cell_type": "code",
      "source": [],
      "metadata": {
        "id": "N8y_9bxoJN1Y"
      },
      "execution_count": null,
      "outputs": []
    }
  ]
}