{
  "nbformat": 4,
  "nbformat_minor": 0,
  "metadata": {
    "colab": {
      "provenance": []
    },
    "kernelspec": {
      "name": "python3",
      "display_name": "Python 3"
    },
    "language_info": {
      "name": "python"
    }
  },
  "cells": [
    {
      "cell_type": "code",
      "execution_count": 1,
      "metadata": {
        "colab": {
          "base_uri": "https://localhost:8080/"
        },
        "id": "aEYPovg85MzV",
        "outputId": "decbfebe-e59b-413d-8df1-4eca737ca307"
      },
      "outputs": [
        {
          "output_type": "stream",
          "name": "stdout",
          "text": [
            "Hola Mundo\n"
          ]
        }
      ],
      "source": [
        "print (\"Hola Mundo\")"
      ]
    },
    {
      "cell_type": "code",
      "source": [
        "nombre = \"Imanol\"\n",
        "print(nombre)"
      ],
      "metadata": {
        "colab": {
          "base_uri": "https://localhost:8080/"
        },
        "id": "0TxSm-M05QTs",
        "outputId": "de13133d-9c72-4b8a-ddd1-c502b145b314"
      },
      "execution_count": 3,
      "outputs": [
        {
          "output_type": "stream",
          "name": "stdout",
          "text": [
            "Imanol\n"
          ]
        }
      ]
    },
    {
      "cell_type": "code",
      "source": [
        "numero = int(input(\"Dame un número: \"))\n",
        "doble = numero * 2\n",
        "print(\"El doble de\", numero, \"es\", doble)"
      ],
      "metadata": {
        "colab": {
          "base_uri": "https://localhost:8080/"
        },
        "id": "wsTqjr8W5jXJ",
        "outputId": "5cf1679b-b1c3-4d7f-ffe8-b35851331896"
      },
      "execution_count": 4,
      "outputs": [
        {
          "output_type": "stream",
          "name": "stdout",
          "text": [
            "Ingresa un número: 7\n",
            "El doble de 7 es 14\n"
          ]
        }
      ]
    },
    {
      "cell_type": "code",
      "source": [
        "numero1 = float(input(\"Ingresa el primer número: \"))\n",
        "numero2 = float(input(\"Ingresa el segundo número: \"))\n",
        "\n",
        "suma = numero1 + numero2\n",
        "\n",
        "print(\"La suma de\", numero1, \"y\", numero2, \"es\", suma)"
      ],
      "metadata": {
        "colab": {
          "base_uri": "https://localhost:8080/"
        },
        "id": "RoOnuog551BT",
        "outputId": "a0563cce-8111-4716-af46-a73a91ddf0dc"
      },
      "execution_count": 5,
      "outputs": [
        {
          "output_type": "stream",
          "name": "stdout",
          "text": [
            "Ingresa el primer número: 7\n",
            "Ingresa el segundo número: 8\n",
            "La suma de 7.0 y 8.0 es 15.0\n"
          ]
        }
      ]
    },
    {
      "cell_type": "code",
      "source": [
        "numeros = [10, 20, 30, 40, 50]\n",
        "print(\"El primer número de la lista es:\", numeros[0])\n",
        "print(\"El último número de la lista es:\", numeros[-1])"
      ],
      "metadata": {
        "colab": {
          "base_uri": "https://localhost:8080/"
        },
        "id": "8waN2C_L56lP",
        "outputId": "e339f200-31bf-4ebc-f40d-c3b36046608d"
      },
      "execution_count": 9,
      "outputs": [
        {
          "output_type": "stream",
          "name": "stdout",
          "text": [
            "El primer número de la lista es: 10\n",
            "El último número de la lista es: 50\n"
          ]
        }
      ]
    },
    {
      "cell_type": "code",
      "source": [
        "numero = int(input(\"dame un número: \"))\n",
        "\n",
        "if numero % 2 == 0:\n",
        "    print(\"El número\", numero, \"es par.\")\n",
        "else:\n",
        "    print(\"El número\", numero, \"es impar.\")"
      ],
      "metadata": {
        "colab": {
          "base_uri": "https://localhost:8080/"
        },
        "id": "SKQFY3Hk6k0y",
        "outputId": "c75b8b15-e461-4c2f-cb56-be9c8aac9adc"
      },
      "execution_count": 11,
      "outputs": [
        {
          "output_type": "stream",
          "name": "stdout",
          "text": [
            "dame un número: 3\n",
            "El número 3 es impar.\n"
          ]
        }
      ]
    },
    {
      "cell_type": "code",
      "source": [
        "for numero in range(1, 11):\n",
        "    print(numero)"
      ],
      "metadata": {
        "colab": {
          "base_uri": "https://localhost:8080/"
        },
        "id": "_gVs6oCj7Owm",
        "outputId": "c523a8a3-8064-4e3b-fa6c-49117168491e"
      },
      "execution_count": 13,
      "outputs": [
        {
          "output_type": "stream",
          "name": "stdout",
          "text": [
            "1\n",
            "2\n",
            "3\n",
            "4\n",
            "5\n",
            "6\n",
            "7\n",
            "8\n",
            "9\n",
            "10\n"
          ]
        }
      ]
    },
    {
      "cell_type": "code",
      "source": [
        "suma = 0\n",
        "for numero in range(1, 101):\n",
        "    suma += numero\n",
        "\n",
        "print(\"La suma de los primeros 100 números naturales es:\", suma)"
      ],
      "metadata": {
        "colab": {
          "base_uri": "https://localhost:8080/"
        },
        "id": "QCXF7mgi7kz4",
        "outputId": "a762e312-cb7a-4aff-9977-cfeedc3f25ad"
      },
      "execution_count": 14,
      "outputs": [
        {
          "output_type": "stream",
          "name": "stdout",
          "text": [
            "La suma de los primeros 100 números naturales es: 5050\n"
          ]
        }
      ]
    },
    {
      "cell_type": "code",
      "source": [
        "numero = int(input(\"Dame un número: \"))\n",
        "\n",
        "def cuadrado(numero):\n",
        "    return numero ** 2\n",
        "\n",
        "resultado = cuadrado(numero)\n",
        "print(\"El cuadrado de numero es:\", resultado)"
      ],
      "metadata": {
        "colab": {
          "base_uri": "https://localhost:8080/"
        },
        "id": "AStFXjju7qLj",
        "outputId": "28537800-082e-491b-ffc2-047f450f93bc"
      },
      "execution_count": 17,
      "outputs": [
        {
          "output_type": "stream",
          "name": "stdout",
          "text": [
            "Dame un número: 3\n",
            "El cuadrado de numero es: 9\n"
          ]
        }
      ]
    },
    {
      "cell_type": "code",
      "source": [
        "def contarvocales(texto):\n",
        "    vocales = \"aeiouAEIOU\"\n",
        "    contador = 0\n",
        "    for caracter in texto:\n",
        "        if caracter in vocales:\n",
        "            contador += 1\n",
        "    return contador\n",
        "\n",
        "texto = (input(\"Dame una frase: \"))\n",
        "\n",
        "numerodevocales = contarvocales(texto)\n",
        "print(\"El número de vocales en el texto es:\", numerodevocales)"
      ],
      "metadata": {
        "colab": {
          "base_uri": "https://localhost:8080/"
        },
        "id": "fIc_Gfj08fbY",
        "outputId": "072d0b00-b10c-4b5c-88a5-849965f754f8"
      },
      "execution_count": 21,
      "outputs": [
        {
          "output_type": "stream",
          "name": "stdout",
          "text": [
            "Dame una frase: Hola como estas \n",
            "El número de vocales en el texto es: 6\n"
          ]
        }
      ]
    },
    {
      "cell_type": "code",
      "source": [
        "numeros = list(range(1, 11))\n",
        "\n",
        "numeros_pares = [numero for numero in numeros if numero % 2 == 0]\n",
        "print(\"Los números pares de la lista son:\", numeros_pares)"
      ],
      "metadata": {
        "colab": {
          "base_uri": "https://localhost:8080/"
        },
        "id": "mDolNr8X9mVX",
        "outputId": "878a8857-40a3-4dd6-bce3-139c5998cd4d"
      },
      "execution_count": 26,
      "outputs": [
        {
          "output_type": "stream",
          "name": "stdout",
          "text": [
            "Los números pares de la lista son: [2, 4, 6, 8, 10]\n"
          ]
        }
      ]
    },
    {
      "cell_type": "code",
      "source": [
        "edades = {\"JC\": 19,\"Walter\": 19,\"Juanma\": 19,\"Iker\": 19,\"Imanol\": 19 }\n",
        "\n",
        "nombre = (input(\"Dame un Nombre: \"))\n",
        "edad = edades.get(nombre, \"No encontrado\")\n",
        "print(\"La edad de\", nombre, \"es:\", edad)"
      ],
      "metadata": {
        "colab": {
          "base_uri": "https://localhost:8080/"
        },
        "id": "KaeW9f7V99l8",
        "outputId": "f021ca9e-0026-4727-f89c-1abef8b8d0fc"
      },
      "execution_count": 33,
      "outputs": [
        {
          "output_type": "stream",
          "name": "stdout",
          "text": [
            "Dame un Nombre: JC\n",
            "La edad de JC es: 19\n"
          ]
        }
      ]
    },
    {
      "cell_type": "code",
      "source": [
        "numeros = [10, 50, 25, 70, 5, 90, 45]\n",
        "\n",
        "numeromasgrande = max(numeros)\n",
        "\n",
        "print(\"El número más grande en la lista es:\", numeromasgrande)"
      ],
      "metadata": {
        "colab": {
          "base_uri": "https://localhost:8080/"
        },
        "id": "AzL7ol_J-6tA",
        "outputId": "e6128528-9738-40b6-a67c-7b4dd54c1faf"
      },
      "execution_count": 34,
      "outputs": [
        {
          "output_type": "stream",
          "name": "stdout",
          "text": [
            "El número más grande en la lista es: 90\n"
          ]
        }
      ]
    },
    {
      "cell_type": "code",
      "source": [
        "def espalindromo(palabra):\n",
        "    palabra = palabra.lower()\n",
        "    palabrainvertida = palabra[::-1]\n",
        "    return palabra == palabrainvertida\n",
        "\n",
        "palabra = (input(\"Dame una Palabra: \"))\n",
        "if espalindromo(palabra):\n",
        "    print(\"La palabra\", palabra, \"es un palíndromo.\")\n",
        "else:\n",
        "    print(\"La palabra\", palabra, \"no es un palíndromo.\")"
      ],
      "metadata": {
        "colab": {
          "base_uri": "https://localhost:8080/"
        },
        "id": "1rk-31viAF7N",
        "outputId": "5710265b-2a09-42bb-a2c0-0b4cf0836b36"
      },
      "execution_count": 37,
      "outputs": [
        {
          "output_type": "stream",
          "name": "stdout",
          "text": [
            "Dame una Palabra: GAY\n",
            "La palabra GAY no es un palíndromo.\n"
          ]
        }
      ]
    },
    {
      "cell_type": "code",
      "source": [
        "def mayor(numero1, numero2):\n",
        "    if numero1 > numero2:\n",
        "        return numero1\n",
        "    else:\n",
        "        return numero2\n",
        "\n",
        "numero1 = 10\n",
        "numero2 = 20\n",
        "resultado = mayor(numero1, numero2)\n",
        "print(\"El número mayor entre\", numero1, \"y\", numero2, \"es:\", resultado)"
      ],
      "metadata": {
        "colab": {
          "base_uri": "https://localhost:8080/"
        },
        "id": "W7Vq3DwYAkMN",
        "outputId": "b5e93485-18e9-48ec-8c40-96c056a1c85c"
      },
      "execution_count": 38,
      "outputs": [
        {
          "output_type": "stream",
          "name": "stdout",
          "text": [
            "El número mayor entre 10 y 20 es: 20\n"
          ]
        }
      ]
    },
    {
      "cell_type": "code",
      "source": [
        "numero = int(input(\"Ingresa un número: \"))\n",
        "\n",
        "print(\"Tabla de multiplicar del\", numero)\n",
        "for i in range(1, 11):\n",
        "    print(numero, \"x\", i, \"=\", numero * i)"
      ],
      "metadata": {
        "colab": {
          "base_uri": "https://localhost:8080/"
        },
        "id": "YX1qzDFURD4l",
        "outputId": "a5cfc5a3-5acc-4956-9e60-0c2d65ef37bd"
      },
      "execution_count": 39,
      "outputs": [
        {
          "output_type": "stream",
          "name": "stdout",
          "text": [
            "Ingresa un número: 3\n",
            "Tabla de multiplicar del 3\n",
            "3 x 1 = 3\n",
            "3 x 2 = 6\n",
            "3 x 3 = 9\n",
            "3 x 4 = 12\n",
            "3 x 5 = 15\n",
            "3 x 6 = 18\n",
            "3 x 7 = 21\n",
            "3 x 8 = 24\n",
            "3 x 9 = 27\n",
            "3 x 10 = 30\n"
          ]
        }
      ]
    },
    {
      "cell_type": "code",
      "source": [
        "def es_primo(numero):\n",
        "    if numero < 2:\n",
        "        return False\n",
        "    for i in range(2, int(numero**0.5) + 1):\n",
        "        if numero % i == 0:\n",
        "            return False\n",
        "    return True\n",
        "\n",
        "def primos_hasta(n):\n",
        "    primos = []\n",
        "    for num in range(2, n + 1):\n",
        "        if es_primo(num):\n",
        "            primos.append(num)\n",
        "    return primos\n",
        "\n",
        "# Ejemplo de uso\n",
        "n = 50\n",
        "resultado = primos_hasta(n)\n",
        "print(\"Los números primos hasta\", n, \"son:\", resultado)"
      ],
      "metadata": {
        "colab": {
          "base_uri": "https://localhost:8080/"
        },
        "id": "Pzb6mQg7RIU3",
        "outputId": "31eeade1-786c-4939-f300-261555cc32d9"
      },
      "execution_count": 40,
      "outputs": [
        {
          "output_type": "stream",
          "name": "stdout",
          "text": [
            "Los números primos hasta 50 son: [2, 3, 5, 7, 11, 13, 17, 19, 23, 29, 31, 37, 41, 43, 47]\n"
          ]
        }
      ]
    },
    {
      "cell_type": "code",
      "source": [
        "def ordenar_lista(lista):\n",
        "    n = len(lista)\n",
        "    for i in range(n):\n",
        "        for j in range(0, n-i-1):\n",
        "            if lista[j] > lista[j+1]:\n",
        "\n",
        "                lista[j], lista[j+1] = lista[j+1], lista[j]\n",
        "    return lista\n",
        "\n",
        "numeros = [34, 2, 23, 56, 11, 9, 1]\n",
        "numeros_ordenados = ordenar_lista(numeros)\n",
        "print(\"Lista ordenada:\", numeros_ordenados)"
      ],
      "metadata": {
        "colab": {
          "base_uri": "https://localhost:8080/"
        },
        "id": "KI9EoJaIRgAQ",
        "outputId": "893a98cb-f6a2-47d4-bb1f-b6a2c77ce538"
      },
      "execution_count": 41,
      "outputs": [
        {
          "output_type": "stream",
          "name": "stdout",
          "text": [
            "Lista ordenada: [1, 2, 9, 11, 23, 34, 56]\n"
          ]
        }
      ]
    },
    {
      "cell_type": "code",
      "source": [
        "numero_secreto = random.randint(1, 100)\n",
        "\n",
        "intentos = 0\n",
        "\n",
        "print(\"¡Bienvenido al juego de adivinar el número secreto!\")\n",
        "print(\"Estoy pensando en un número entre 1 y 100.\")\n",
        "\n",
        "while True:\n",
        "\n",
        "    intento = int(input(\"Ingresa tu intento: \"))\n",
        "    intentos += 1\n",
        "\n",
        "    if intento < numero_secreto:\n",
        "        print(\"Demasiado bajo. Intenta nuevamente.\")\n",
        "    if intento > numero_secreto:\n",
        "        print(\"Demasiado alto. Intenta nuevamente.\")\n",
        "    if:\n",
        "        print(\"¡Felicidades! Adivinaste el número secreto en\", intentos, \"intentos.\""
      ],
      "metadata": {
        "colab": {
          "base_uri": "https://localhost:8080/",
          "height": 110
        },
        "id": "CnwTdrNlW7eN",
        "outputId": "f437675a-08d4-413e-fd92-6adc76004e0a"
      },
      "execution_count": 48,
      "outputs": [
        {
          "output_type": "error",
          "ename": "SyntaxError",
          "evalue": "invalid syntax (<ipython-input-48-c0a39b82c6a2>, line 17)",
          "traceback": [
            "\u001b[0;36m  File \u001b[0;32m\"<ipython-input-48-c0a39b82c6a2>\"\u001b[0;36m, line \u001b[0;32m17\u001b[0m\n\u001b[0;31m    if:\u001b[0m\n\u001b[0m      ^\u001b[0m\n\u001b[0;31mSyntaxError\u001b[0m\u001b[0;31m:\u001b[0m invalid syntax\n"
          ]
        }
      ]
    }
  ]
}