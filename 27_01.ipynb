{
  "nbformat": 4,
  "nbformat_minor": 0,
  "metadata": {
    "colab": {
      "provenance": []
    },
    "kernelspec": {
      "name": "python3",
      "display_name": "Python 3"
    },
    "language_info": {
      "name": "python"
    }
  },
  "cells": [
    {
      "cell_type": "code",
      "execution_count": 1,
      "metadata": {
        "colab": {
          "base_uri": "https://localhost:8080/"
        },
        "id": "xMT1SJWrOU-j",
        "outputId": "410d523c-761f-4a45-c27a-f9026ca17c15"
      },
      "outputs": [
        {
          "output_type": "execute_result",
          "data": {
            "text/plain": [
              "range(0, 10)"
            ]
          },
          "metadata": {},
          "execution_count": 1
        }
      ],
      "source": [
        "range(10)"
      ]
    },
    {
      "cell_type": "code",
      "source": [
        "for i in range(10) :\n",
        "  print(i)"
      ],
      "metadata": {
        "id": "HpNalCzpOV0i"
      },
      "execution_count": null,
      "outputs": []
    },
    {
      "cell_type": "code",
      "source": [
        "# Vamos a construir dos conjuntos\n",
        "\n",
        "Pares = {i for i in range(21) if  i%2==0}\n",
        "print(f\"Pares: {Pares}\")\n",
        "\n",
        "Impares = {i for i in range(21) if  i%2==1}\n",
        "print(f\"Impares: {Impares}\")"
      ],
      "metadata": {
        "id": "lq4XCnP8OV9s"
      },
      "execution_count": null,
      "outputs": []
    },
    {
      "cell_type": "code",
      "source": [
        "C = {17, 7, 27, 19, 77, 56, 8, 12, 10, 13, 20, 16}\n",
        "C, type(C)"
      ],
      "metadata": {
        "id": "QhESOXATOWGX"
      },
      "execution_count": null,
      "outputs": []
    },
    {
      "cell_type": "code",
      "source": [
        "Pares.intersection(Impares) #El conjunto vacío"
      ],
      "metadata": {
        "id": "AUvSHr1wOWPs"
      },
      "execution_count": null,
      "outputs": []
    },
    {
      "cell_type": "code",
      "source": [
        "Pares.union(Impares)"
      ],
      "metadata": {
        "id": "ZND_z487OWaA"
      },
      "execution_count": null,
      "outputs": []
    },
    {
      "cell_type": "code",
      "source": [
        "Impares.difference(C) #Quitando los elementos de C a los Impares"
      ],
      "metadata": {
        "id": "HTjOGI_UOWv0"
      },
      "execution_count": null,
      "outputs": []
    },
    {
      "cell_type": "code",
      "source": [
        "Lista_pares = list(Pares)\n",
        "Lista_pares"
      ],
      "metadata": {
        "id": "ld-ukiPEOW5I"
      },
      "execution_count": null,
      "outputs": []
    }
  ]
}