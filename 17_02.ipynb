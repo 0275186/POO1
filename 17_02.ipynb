{
  "nbformat": 4,
  "nbformat_minor": 0,
  "metadata": {
    "colab": {
      "provenance": []
    },
    "kernelspec": {
      "name": "python3",
      "display_name": "Python 3"
    },
    "language_info": {
      "name": "python"
    }
  },
  "cells": [
    {
      "cell_type": "code",
      "execution_count": null,
      "metadata": {
        "id": "RKwYMaWMJ8gP"
      },
      "outputs": [],
      "source": [
        "Ceci= input(\"¿De quién es cumpleaños?\")"
      ]
    },
    {
      "cell_type": "code",
      "source": [
        "edad=  int(input(\"¿Cuántos años cumples?\"))"
      ],
      "metadata": {
        "id": "mtjwfz9YJ88G"
      },
      "execution_count": null,
      "outputs": []
    },
    {
      "cell_type": "code",
      "source": [
        "print(f\"Hoy es cumple de{Ceci} y cumple {edad}\")"
      ],
      "metadata": {
        "id": "J5yWn0dYJ8-J"
      },
      "execution_count": null,
      "outputs": []
    },
    {
      "cell_type": "code",
      "source": [
        "def cuadrado(x):\n",
        "  z=x**2\n",
        "  return z"
      ],
      "metadata": {
        "id": "1Rci6HeZJ9Cy"
      },
      "execution_count": null,
      "outputs": []
    },
    {
      "cell_type": "code",
      "source": [
        "cuadrado (25)\n",
        ""
      ],
      "metadata": {
        "id": "CDkSo2p3J9Rk"
      },
      "execution_count": null,
      "outputs": []
    },
    {
      "cell_type": "code",
      "source": [
        "cuad=lambda x:x**2\n",
        "cuad (2)\n",
        ""
      ],
      "metadata": {
        "id": "79KaCloJJ9Vz"
      },
      "execution_count": null,
      "outputs": []
    },
    {
      "cell_type": "code",
      "source": [
        "operacion= lambda x,y:x**2 + x*y + 2\n",
        "operacion(2,3)"
      ],
      "metadata": {
        "id": "RhZBrwSJJ9Y_"
      },
      "execution_count": null,
      "outputs": []
    },
    {
      "cell_type": "code",
      "source": [
        "import math\n",
        "from math import pi, e"
      ],
      "metadata": {
        "id": "3TqhD8CfJ9bN"
      },
      "execution_count": null,
      "outputs": []
    },
    {
      "cell_type": "code",
      "source": [
        "pi, e"
      ],
      "metadata": {
        "id": "gwMySdUOJ9dk"
      },
      "execution_count": null,
      "outputs": []
    },
    {
      "cell_type": "code",
      "source": [
        "area_circulo= lambda r:pi*r**2\n",
        "area_circulo(1)"
      ],
      "metadata": {
        "id": "j0xxGNkAJ9fz"
      },
      "execution_count": null,
      "outputs": []
    },
    {
      "cell_type": "code",
      "source": [
        "residuo= list(map(lambda x:x%2, [i for i in range(1,101)]))"
      ],
      "metadata": {
        "id": "so6TPgC9J9h-"
      },
      "execution_count": null,
      "outputs": []
    },
    {
      "cell_type": "code",
      "source": [
        "def residuo_(x):\n",
        "  for x in range(1,101):\n",
        "    return x%2"
      ],
      "metadata": {
        "id": "fXPzkvc_J9kO"
      },
      "execution_count": null,
      "outputs": []
    },
    {
      "cell_type": "code",
      "source": [
        "residuo_(3)"
      ],
      "metadata": {
        "id": "SWeBGTOuKXRL"
      },
      "execution_count": null,
      "outputs": []
    },
    {
      "cell_type": "code",
      "source": [
        "exponenciales= set(map(lambda x:e**x, [i for i in range(1,10)]))\n",
        "exponenciales"
      ],
      "metadata": {
        "id": "iiBJtLZNKXTu"
      },
      "execution_count": null,
      "outputs": []
    },
    {
      "cell_type": "code",
      "source": [],
      "metadata": {
        "id": "SoxVdh68KXWk"
      },
      "execution_count": null,
      "outputs": []
    }
  ]
}